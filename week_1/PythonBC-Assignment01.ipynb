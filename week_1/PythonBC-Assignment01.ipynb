{
 "cells": [
  {
   "cell_type": "markdown",
   "metadata": {},
   "source": [
    "#  **Assignment 01**"
   ]
  },
  {
   "cell_type": "markdown",
   "metadata": {},
   "source": [
    "## Question 01"
   ]
  },
  {
   "cell_type": "markdown",
   "metadata": {},
   "source": [
    "Define a function to print a string diagonally, for example:\n",
    "\n",
    "Tarun will be printed as:\n",
    "```sh\n",
    "T\n",
    " a\n",
    "  r\n",
    "   u\n",
    "    n\n",
    "```"
   ]
  },
  {
   "cell_type": "code",
   "execution_count": 14,
   "metadata": {},
   "outputs": [
    {
     "name": "stdout",
     "output_type": "stream",
     "text": [
      "Type your name below: \n",
      "arju\n",
      " a \n",
      "  r \n",
      "   j \n",
      "    u \n"
     ]
    }
   ],
   "source": [
    "name=input(\"Type your name below: \\n\")\n",
    "l = 0\n",
    "for i in name:\n",
    "    print(\" \"*l,i,'')\n",
    "    l = l + 1"
   ]
  },
  {
   "cell_type": "markdown",
   "metadata": {},
   "source": [
    "**Optional (recommended):\n",
    "\n",
    "Try printing reverse diagonal as well."
   ]
  },
  {
   "cell_type": "code",
   "execution_count": 13,
   "metadata": {},
   "outputs": [
    {
     "name": "stdout",
     "output_type": "stream",
     "text": [
      "Type your name below: \n",
      "arjumand\n",
      "         a \n",
      "        r \n",
      "       j \n",
      "      u \n",
      "     m \n",
      "    a \n",
      "   n \n",
      "  d \n"
     ]
    }
   ],
   "source": [
    "name=input(\"Type your name below: \\n\")\n",
    "l = len(name)\n",
    "for i in name:\n",
    "    print(\" \"*l,i,'')\n",
    "    l = l - 1"
   ]
  },
  {
   "cell_type": "markdown",
   "metadata": {},
   "source": [
    "## Question 02"
   ]
  },
  {
   "cell_type": "markdown",
   "metadata": {},
   "source": [
    "Create a program to take as input 5 student records in the following format:\n",
    "\n",
    "```\n",
    "**roll_num** | **name** | **age** | **marks**(out of 100)\n",
    "```\n",
    "\n",
    "And then output the records in a tabular form with class average, class highest and class lowest at end in the following format.\n",
    "\n",
    "- Use dictionaries (list of dictionaries in exact)\n",
    "- Insert atleast 5 records\n",
    "- Input must be user-given\n",
    "- (Optional) validate the user input, i.e marks aren't greater 100 and other such validations you think there might be\n"
   ]
  },
  {
   "cell_type": "code",
   "execution_count": 51,
   "metadata": {},
   "outputs": [
    {
     "name": "stdout",
     "output_type": "stream",
     "text": [
      "Number of Records you want to add: 5\n",
      "\n",
      "Name:Ali\n",
      "Roll number:101\n",
      "Enter age:21\n",
      "Enter marks:87\n",
      "\n",
      "Name:Areeba\n",
      "Roll number:34\n",
      "Enter age:22\n",
      "Enter marks:75\n",
      "\n",
      "Name:Arju\n",
      "Roll number:98\n",
      "Enter age:22\n",
      "Enter marks:83\n",
      "\n",
      "Name:Rabi\n",
      "Roll number:69\n",
      "Enter age:22\n",
      "Enter marks:95\n",
      "\n",
      "Name:Aisha\n",
      "Roll number:76\n",
      "Enter age:22\n",
      "Enter marks:65\n",
      "\n",
      "ROLL NO\t|\tNAME\t|\tAGE\t|\tMARKS(out of 100)\n",
      "101\t\tAli\t\t21\t\t87\n",
      "34\t\tAreeba\t\t22\t\t75\n",
      "98\t\tArju\t\t22\t\t83\n",
      "69\t\tRabi\t\t22\t\t95\n",
      "76\t\tAisha\t\t22\t\t65\n",
      "\n",
      "\tHighest marks:95\n",
      "\tLowest marks:65\n",
      "\tAverage marks:81.0\n"
     ]
    }
   ],
   "source": [
    "stud_record=[]\n",
    "information = {\"Name\":\"\",\n",
    "        \"Rollno\":\"\",\n",
    "        \"Age\":\"\",\n",
    "        \"Marks\":\"\"}\n",
    "no_of_record=int(input(\"Number of Records you want to add: \"))\n",
    "#for loop for adding record in list of dictionary\n",
    "for i in range(no_of_record):\n",
    "    information[\"Name\"] = input(\"\\nName:\")\n",
    "    information[\"Rollno\"] = int(input(\"Roll number:\")) \n",
    "    information[\"Age\"] = int(input(\"Enter age:\"))\n",
    "    while (True): #condition for validation i.e marks aren't greater 100 \n",
    "        information[\"Marks\"] = int(input(\"Enter marks:\"))\n",
    "        if information[\"Marks\"] < 0 or information[\"Marks\"] > 100:\n",
    "                print(\"Kindly enter marks between 0 to 100..!\")\n",
    "        else:\n",
    "            break\n",
    "    stud_record.append(information.copy())\n",
    "\n",
    "#printing list of dictionary\n",
    "print(\"\\nROLL NO\\t|\\tNAME\\t|\\tAGE\\t|\\tMARKS(out of 100)\")\n",
    "for i in range(no_of_record):\n",
    "    print(f\"{(stud_record[i])['Rollno']}\\t\\t{(stud_record[i])['Name']}\\t\\t{(stud_record[i])['Age']}\\t\\t{(stud_record[i])['Marks']}\")\n",
    "\n",
    "#function for calculating higest,lowest and average marks\n",
    "def avg_high_low():\n",
    "    avg = 0\n",
    "    total = 0\n",
    "    high = 0\n",
    "    low = 0\n",
    "    for i in range(no_of_record):\n",
    "        total += (stud_record[i])['Marks'] \n",
    "        if (stud_record[i])['Marks'] > high: #condition for highest marks\n",
    "            high=(stud_record[i])['Marks']\n",
    "        if (stud_record[i])['Marks'] < high: #condition for lowest marks\n",
    "            low=(stud_record[i])['Marks']\n",
    "    avg = total/no_of_record\n",
    "    print(f\"\\n\\tHighest marks:{high}\\n\\tLowest marks:{low}\\n\\tAverage marks:{avg}\")\n",
    "\n",
    "\n",
    "#calling function\n",
    "avg_high_low()"
   ]
  },
  {
   "cell_type": "markdown",
   "metadata": {},
   "source": [
    "## Question 03"
   ]
  },
  {
   "cell_type": "markdown",
   "metadata": {},
   "source": [
    "A function that will print lyrics of given song with 1 second delay between each line.\n",
    "\n",
    "- Use time.sleep()\n",
    "- Use split() function of string"
   ]
  },
  {
   "cell_type": "code",
   "execution_count": 52,
   "metadata": {},
   "outputs": [
    {
     "name": "stdout",
     "output_type": "stream",
     "text": [
      "Song: Don't Let Me Down\n",
      "By: Chainsmokers\n",
      "\n",
      "\n",
      "Crashing, hit a wall\n",
      "Right now I need a miracle\n",
      "Hurry up now, I need a miracle\n",
      "Stranded, reaching out\n",
      "I call your name, but you're not around\n",
      "I say your name, but you're not around\n",
      "I need you, I need you, I need you right now\n",
      "Yeah, I need you right now\n",
      "So don't let me, don't let me, don't let me down\n",
      "I think I'm losing my mind now\n",
      "It's in my head, darling, I hope\n",
      "That you'll be here when I need you the most, so\n",
      "Don't let me, don't let me, don't let me down\n",
      "D-don't let me down\n",
      "Don't let me down\n",
      "Don't let me down, down, down\n",
      "Don't let me down, don't let me down, down, down\n",
      "R-r-running out of time\n",
      "I really thought you were on my side\n",
      "But now there's nobody by my side\n",
      "I need you, I need you, I need you right now\n",
      "Yeah, I need you right now\n",
      "So don't let me, don't let me, don't let me down\n",
      "I think I'm losing my mind now\n",
      "It's in my head, darling, I hope\n",
      "That you'll be here when I need you the most, so\n",
      "Don't let me, don't let me, don't let me down\n",
      "D-don't let me down\n",
      "Don't let me down\n",
      "Don't let me down, down, down\n",
      "Don't let me down, down, down\n",
      "Don't let me down, down, down\n",
      "Don't let me down, don't let me down, down, down\n",
      "Oh, I think I'm losing my mind now, yeah (yeah)\n",
      "Oh, I think I'm losing my mind now, yeah (yeah)\n",
      "I need you, I need you, I need you right now\n",
      "Yeah, I need you right now\n",
      "So don't let me, don't let me, don't let me down\n",
      "I think I'm losing my mind now\n",
      "It's in my head, darling, I hope\n",
      "That you'll be here when I need you the most, so\n",
      "Don't let me, don't let me, don't let me down\n",
      "Don't let me down\n",
      "Yeah, don't let me down\n",
      "Yeah, don't let me down\n",
      "Don't let me down, oh no\n",
      "Said, \"Don't let me down\"\n",
      "Don't let me down, no\n",
      "Don't let me down\n",
      "Don't let me down, down, down\n",
      " \n",
      "END OF SONG \n"
     ]
    }
   ],
   "source": [
    "import time as tm\n",
    "song = '''Crashing, hit a wall\n",
    "Right now I need a miracle\n",
    "Hurry up now, I need a miracle\n",
    "Stranded, reaching out\n",
    "I call your name, but you're not around\n",
    "I say your name, but you're not around\n",
    "I need you, I need you, I need you right now\n",
    "Yeah, I need you right now\n",
    "So don't let me, don't let me, don't let me down\n",
    "I think I'm losing my mind now\n",
    "It's in my head, darling, I hope\n",
    "That you'll be here when I need you the most, so\n",
    "Don't let me, don't let me, don't let me down\n",
    "D-don't let me down\n",
    "Don't let me down\n",
    "Don't let me down, down, down\n",
    "Don't let me down, don't let me down, down, down\n",
    "R-r-running out of time\n",
    "I really thought you were on my side\n",
    "But now there's nobody by my side\n",
    "I need you, I need you, I need you right now\n",
    "Yeah, I need you right now\n",
    "So don't let me, don't let me, don't let me down\n",
    "I think I'm losing my mind now\n",
    "It's in my head, darling, I hope\n",
    "That you'll be here when I need you the most, so\n",
    "Don't let me, don't let me, don't let me down\n",
    "D-don't let me down\n",
    "Don't let me down\n",
    "Don't let me down, down, down\n",
    "Don't let me down, down, down\n",
    "Don't let me down, down, down\n",
    "Don't let me down, don't let me down, down, down\n",
    "Oh, I think I'm losing my mind now, yeah (yeah)\n",
    "Oh, I think I'm losing my mind now, yeah (yeah)\n",
    "I need you, I need you, I need you right now\n",
    "Yeah, I need you right now\n",
    "So don't let me, don't let me, don't let me down\n",
    "I think I'm losing my mind now\n",
    "It's in my head, darling, I hope\n",
    "That you'll be here when I need you the most, so\n",
    "Don't let me, don't let me, don't let me down\n",
    "Don't let me down\n",
    "Yeah, don't let me down\n",
    "Yeah, don't let me down\n",
    "Don't let me down, oh no\n",
    "Said, \"Don't let me down\"\n",
    "Don't let me down, no\n",
    "Don't let me down\n",
    "Don't let me down, down, down\n",
    " \\nEND OF SONG '''\n",
    "song_lines = song.split('\\n')\n",
    "print(\"Song: Don't Let Me Down\\nBy: Chainsmokers\\n\\n\")\n",
    "for i in range(len(song_lines)):\n",
    "    print(song_lines[i])\n",
    "    tm.sleep(1)"
   ]
  },
  {
   "cell_type": "code",
   "execution_count": null,
   "metadata": {},
   "outputs": [],
   "source": []
  }
 ],
 "metadata": {
  "kernelspec": {
   "display_name": "Python 3",
   "language": "python",
   "name": "python3"
  },
  "language_info": {
   "codemirror_mode": {
    "name": "ipython",
    "version": 3
   },
   "file_extension": ".py",
   "mimetype": "text/x-python",
   "name": "python",
   "nbconvert_exporter": "python",
   "pygments_lexer": "ipython3",
   "version": "3.7.7"
  }
 },
 "nbformat": 4,
 "nbformat_minor": 4
}
